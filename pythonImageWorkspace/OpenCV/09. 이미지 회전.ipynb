{
 "cells": [
  {
   "cell_type": "markdown",
   "id": "072ef053",
   "metadata": {},
   "source": [
    "## 9. 이미지 회전"
   ]
  },
  {
   "cell_type": "markdown",
   "id": "28b22125",
   "metadata": {},
   "source": [
    "시계 방향 90도 회전\n"
   ]
  },
  {
   "cell_type": "code",
   "execution_count": null,
   "id": "d141bd8b",
   "metadata": {},
   "outputs": [],
   "source": [
    "import cv2\n",
    "img = cv2.imread('img.jpg')\n",
    "\n",
    "rotate_90 = cv2.rotate(img,cv2.ROTATE_90_CLOCKWISE) # 시계방향으로 90도 회전\n",
    "\n",
    "cv2.imshow('img',img)\n",
    "cv2.imshow('rotate_90',rotate_90)\n",
    "cv2.waitKey(0)\n",
    "cv2.destroyAllWindows()\n",
    "cv2.waitKey(0)"
   ]
  },
  {
   "cell_type": "markdown",
   "id": "cec4d2a9",
   "metadata": {},
   "source": [
    "180도 회전"
   ]
  },
  {
   "cell_type": "code",
   "execution_count": null,
   "id": "f63d073d",
   "metadata": {},
   "outputs": [],
   "source": [
    "import cv2\n",
    "img = cv2.imread('img.jpg')\n",
    "\n",
    "rotate_180 = cv2.rotate(img,cv2.ROTATE_180_CLOCKWISE) # 시계방향으로 180도 회전\n",
    "\n",
    "cv2.imshow('img',img)\n",
    "cv2.imshow('rotate_180',rotate_180)\n",
    "cv2.waitKey(0)\n",
    "cv2.destroyAllWindows()\n",
    "cv2.waitKey(0)"
   ]
  },
  {
   "cell_type": "markdown",
   "id": "27622cde",
   "metadata": {},
   "source": [
    "시계 반대 방향 90도 회전(시계방향 270도 회전)\n"
   ]
  },
  {
   "cell_type": "code",
   "execution_count": null,
   "id": "d9a85280",
   "metadata": {},
   "outputs": [],
   "source": [
    "import cv2\n",
    "img = cv2.imread('img.jpg')\n",
    "\n",
    "rotate_270 = cv2.rotate(img,cv2.ROTATE_90_COUNTERCLOCKWISE) # 시계방향으로 180도 회전\n",
    "\n",
    "cv2.imshow('img',img)\n",
    "cv2.imshow('rotate_270',rotate_270)\n",
    "cv2.waitKey(0)\n",
    "cv2.destroyAllWindows()\n",
    "cv2.waitKey(0)"
   ]
  }
 ],
 "metadata": {
  "kernelspec": {
   "display_name": "Python 3 (ipykernel)",
   "language": "python",
   "name": "python3"
  },
  "language_info": {
   "codemirror_mode": {
    "name": "ipython",
    "version": 3
   },
   "file_extension": ".py",
   "mimetype": "text/x-python",
   "name": "python",
   "nbconvert_exporter": "python",
   "pygments_lexer": "ipython3",
   "version": "3.9.7"
  }
 },
 "nbformat": 4,
 "nbformat_minor": 5
}
