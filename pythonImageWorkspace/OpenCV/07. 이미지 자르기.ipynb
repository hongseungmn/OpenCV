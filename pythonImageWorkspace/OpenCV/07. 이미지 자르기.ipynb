{
 "cells": [
  {
   "cell_type": "markdown",
   "id": "56d0310d",
   "metadata": {},
   "source": [
    "## 7. 이미지 자르기"
   ]
  },
  {
   "cell_type": "markdown",
   "id": "182c14db",
   "metadata": {},
   "source": [
    "영역을 잘라서 새로운 윈도우(창)에 표시"
   ]
  },
  {
   "cell_type": "code",
   "execution_count": 4,
   "id": "a0c23d75",
   "metadata": {},
   "outputs": [
    {
     "data": {
      "text/plain": [
       "-1"
      ]
     },
     "execution_count": 4,
     "metadata": {},
     "output_type": "execute_result"
    }
   ],
   "source": [
    "import cv2\n",
    "img = cv2.imread('img.jpg')\n",
    "#img.shape # (390,640,3)\n",
    "\n",
    "crop = img[100:200,200:400] # 세로 기준 100:200까지, 가로 기준 300:400까지 자름\n",
    "\n",
    "cv2.imshow('img',img) # 원본 이미지\n",
    "cv2.imshow('crop',crop) # 잘린 이미지\n",
    "cv2.waitKey(0)\n",
    "cv2.destroyAllWindows()\n",
    "cv2.waitKey(1)"
   ]
  },
  {
   "cell_type": "markdown",
   "id": "2bea1bc0",
   "metadata": {},
   "source": [
    "영역을 잘라서 기존 윈도우에 표시"
   ]
  },
  {
   "cell_type": "code",
   "execution_count": 6,
   "id": "d336b310",
   "metadata": {},
   "outputs": [
    {
     "data": {
      "text/plain": [
       "-1"
      ]
     },
     "execution_count": 6,
     "metadata": {},
     "output_type": "execute_result"
    }
   ],
   "source": [
    "import cv2\n",
    "img = cv2.imread('img.jpg')\n",
    "\n",
    "\n",
    "crop = img[100:200,200:400] # 세로 기준 100:200까지, 가로 기준 300:400까지 자름\n",
    "img[100:200,400:600] = crop\n",
    "\n",
    "cv2.imshow('img',img) # 원본 이미지\n",
    "cv2.waitKey(0)\n",
    "cv2.destroyAllWindows()\n",
    "cv2.waitKey(1)"
   ]
  },
  {
   "cell_type": "code",
   "execution_count": null,
   "id": "1c3c4187",
   "metadata": {},
   "outputs": [],
   "source": []
  }
 ],
 "metadata": {
  "kernelspec": {
   "display_name": "Python 3 (ipykernel)",
   "language": "python",
   "name": "python3"
  },
  "language_info": {
   "codemirror_mode": {
    "name": "ipython",
    "version": 3
   },
   "file_extension": ".py",
   "mimetype": "text/x-python",
   "name": "python",
   "nbconvert_exporter": "python",
   "pygments_lexer": "ipython3",
   "version": "3.9.7"
  }
 },
 "nbformat": 4,
 "nbformat_minor": 5
}
